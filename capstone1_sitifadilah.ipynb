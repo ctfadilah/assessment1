{
 "cells": [
  {
   "attachments": {},
   "cell_type": "markdown",
   "metadata": {},
   "source": [
    "## 1. Import packages"
   ]
  },
  {
   "cell_type": "code",
   "execution_count": 1,
   "metadata": {},
   "outputs": [],
   "source": [
    "import pandas as pd\n",
    "import numpy as np\n",
    "import tensorflow as tf\n",
    "import os\n",
    "import matplotlib.pyplot as plt\n",
    "%matplotlib inline"
   ]
  },
  {
   "cell_type": "code",
   "execution_count": 2,
   "metadata": {},
   "outputs": [
    {
     "name": "stdout",
     "output_type": "stream",
     "text": [
      "c:\\Users\\syami\\Desktop\\HANDS-ON\\Assessment_1\n"
     ]
    }
   ],
   "source": [
    "import os\n",
    "print(os.getcwd())"
   ]
  },
  {
   "attachments": {},
   "cell_type": "markdown",
   "metadata": {},
   "source": [
    "## 2. Data loading"
   ]
  },
  {
   "cell_type": "code",
   "execution_count": 3,
   "metadata": {},
   "outputs": [],
   "source": [
    "PATH = os.getcwd()\n",
    "TRAIN_PATH = os.path.join(PATH, \"cases_malaysia_train.csv\")\n",
    "TEST_PATH = os.path.join(PATH, \"cases_malaysia_test.csv\")"
   ]
  },
  {
   "cell_type": "code",
   "execution_count": 4,
   "metadata": {},
   "outputs": [],
   "source": [
    "df_train = pd.read_csv(TRAIN_PATH)\n",
    "df_test = pd.read_csv(TEST_PATH)"
   ]
  },
  {
   "attachments": {},
   "cell_type": "markdown",
   "metadata": {},
   "source": [
    "## 3. Data Inspection"
   ]
  },
  {
   "cell_type": "code",
   "execution_count": 5,
   "metadata": {},
   "outputs": [
    {
     "name": "stdout",
     "output_type": "stream",
     "text": [
      " -------------------TRAIN DATA INFO----------------\n",
      "<class 'pandas.core.frame.DataFrame'>\n",
      "RangeIndex: 680 entries, 0 to 679\n",
      "Data columns (total 31 columns):\n",
      " #   Column                   Non-Null Count  Dtype  \n",
      "---  ------                   --------------  -----  \n",
      " 0   date                     680 non-null    object \n",
      " 1   cases_new                680 non-null    object \n",
      " 2   cases_import             680 non-null    int64  \n",
      " 3   cases_recovered          680 non-null    int64  \n",
      " 4   cases_active             680 non-null    int64  \n",
      " 5   cases_cluster            680 non-null    int64  \n",
      " 6   cases_unvax              680 non-null    int64  \n",
      " 7   cases_pvax               680 non-null    int64  \n",
      " 8   cases_fvax               680 non-null    int64  \n",
      " 9   cases_boost              680 non-null    int64  \n",
      " 10  cases_child              680 non-null    int64  \n",
      " 11  cases_adolescent         680 non-null    int64  \n",
      " 12  cases_adult              680 non-null    int64  \n",
      " 13  cases_elderly            680 non-null    int64  \n",
      " 14  cases_0_4                680 non-null    int64  \n",
      " 15  cases_5_11               680 non-null    int64  \n",
      " 16  cases_12_17              680 non-null    int64  \n",
      " 17  cases_18_29              680 non-null    int64  \n",
      " 18  cases_30_39              680 non-null    int64  \n",
      " 19  cases_40_49              680 non-null    int64  \n",
      " 20  cases_50_59              680 non-null    int64  \n",
      " 21  cases_60_69              680 non-null    int64  \n",
      " 22  cases_70_79              680 non-null    int64  \n",
      " 23  cases_80                 680 non-null    int64  \n",
      " 24  cluster_import           338 non-null    float64\n",
      " 25  cluster_religious        338 non-null    float64\n",
      " 26  cluster_community        338 non-null    float64\n",
      " 27  cluster_highRisk         338 non-null    float64\n",
      " 28  cluster_education        338 non-null    float64\n",
      " 29  cluster_detentionCentre  338 non-null    float64\n",
      " 30  cluster_workplace        338 non-null    float64\n",
      "dtypes: float64(7), int64(22), object(2)\n",
      "memory usage: 164.8+ KB\n"
     ]
    }
   ],
   "source": [
    "# (A) check for info\n",
    "print(\" -------------------TRAIN DATA INFO----------------\")\n",
    "df_train.info()"
   ]
  },
  {
   "cell_type": "code",
   "execution_count": 6,
   "metadata": {},
   "outputs": [
    {
     "name": "stdout",
     "output_type": "stream",
     "text": [
      " -------------------TEST DATA INFO----------------\n",
      "<class 'pandas.core.frame.DataFrame'>\n",
      "RangeIndex: 100 entries, 0 to 99\n",
      "Data columns (total 31 columns):\n",
      " #   Column                   Non-Null Count  Dtype  \n",
      "---  ------                   --------------  -----  \n",
      " 0   date                     100 non-null    object \n",
      " 1   cases_new                99 non-null     float64\n",
      " 2   cases_import             100 non-null    int64  \n",
      " 3   cases_recovered          100 non-null    int64  \n",
      " 4   cases_active             100 non-null    int64  \n",
      " 5   cases_cluster            100 non-null    int64  \n",
      " 6   cases_unvax              100 non-null    int64  \n",
      " 7   cases_pvax               100 non-null    int64  \n",
      " 8   cases_fvax               100 non-null    int64  \n",
      " 9   cases_boost              100 non-null    int64  \n",
      " 10  cases_child              100 non-null    int64  \n",
      " 11  cases_adolescent         100 non-null    int64  \n",
      " 12  cases_adult              100 non-null    int64  \n",
      " 13  cases_elderly            100 non-null    int64  \n",
      " 14  cases_0_4                100 non-null    int64  \n",
      " 15  cases_5_11               100 non-null    int64  \n",
      " 16  cases_12_17              100 non-null    int64  \n",
      " 17  cases_18_29              100 non-null    int64  \n",
      " 18  cases_30_39              100 non-null    int64  \n",
      " 19  cases_40_49              100 non-null    int64  \n",
      " 20  cases_50_59              100 non-null    int64  \n",
      " 21  cases_60_69              100 non-null    int64  \n",
      " 22  cases_70_79              100 non-null    int64  \n",
      " 23  cases_80                 100 non-null    int64  \n",
      " 24  cluster_import           100 non-null    int64  \n",
      " 25  cluster_religious        100 non-null    int64  \n",
      " 26  cluster_community        100 non-null    int64  \n",
      " 27  cluster_highRisk         100 non-null    int64  \n",
      " 28  cluster_education        100 non-null    int64  \n",
      " 29  cluster_detentionCentre  100 non-null    int64  \n",
      " 30  cluster_workplace        100 non-null    int64  \n",
      "dtypes: float64(1), int64(29), object(1)\n",
      "memory usage: 24.3+ KB\n"
     ]
    }
   ],
   "source": [
    "#check for info\n",
    "print(\" -------------------TEST DATA INFO----------------\")\n",
    "df_test.info()"
   ]
  },
  {
   "cell_type": "code",
   "execution_count": 7,
   "metadata": {},
   "outputs": [
    {
     "data": {
      "text/plain": [
       "date                         0\n",
       "cases_new                    0\n",
       "cases_import                 0\n",
       "cases_recovered              0\n",
       "cases_active                 0\n",
       "cases_cluster                0\n",
       "cases_unvax                  0\n",
       "cases_pvax                   0\n",
       "cases_fvax                   0\n",
       "cases_boost                  0\n",
       "cases_child                  0\n",
       "cases_adolescent             0\n",
       "cases_adult                  0\n",
       "cases_elderly                0\n",
       "cases_0_4                    0\n",
       "cases_5_11                   0\n",
       "cases_12_17                  0\n",
       "cases_18_29                  0\n",
       "cases_30_39                  0\n",
       "cases_40_49                  0\n",
       "cases_50_59                  0\n",
       "cases_60_69                  0\n",
       "cases_70_79                  0\n",
       "cases_80                     0\n",
       "cluster_import             342\n",
       "cluster_religious          342\n",
       "cluster_community          342\n",
       "cluster_highRisk           342\n",
       "cluster_education          342\n",
       "cluster_detentionCentre    342\n",
       "cluster_workplace          342\n",
       "dtype: int64"
      ]
     },
     "execution_count": 7,
     "metadata": {},
     "output_type": "execute_result"
    }
   ],
   "source": [
    "# (B) Check fo NA values\n",
    "df_train.isna().sum()"
   ]
  },
  {
   "attachments": {},
   "cell_type": "markdown",
   "metadata": {},
   "source": [
    "## 4. Data Cleaning"
   ]
  },
  {
   "cell_type": "code",
   "execution_count": 8,
   "metadata": {},
   "outputs": [],
   "source": [
    "df_train[\"cluster_import\"].fillna(df_train[\"cluster_import\"].mean(), inplace=True)\n",
    "df_train[\"cluster_highRisk\"].fillna(df_train[\"cluster_highRisk\"].median(), inplace=True)\n",
    "df_train[\"cluster_education\"].fillna(df_train[\"cluster_education\"].median(), inplace=True)\n",
    "df_train[\"cluster_detentionCentre\"].fillna(df_train[\"cluster_detentionCentre\"].median(), inplace=True)\n",
    "df_train[\"cluster_workplace\"].fillna(df_train[\"cluster_workplace\"].median(), inplace=True)\n"
   ]
  },
  {
   "cell_type": "code",
   "execution_count": 9,
   "metadata": {},
   "outputs": [
    {
     "data": {
      "text/plain": [
       "date                         0\n",
       "cases_new                    0\n",
       "cases_import                 0\n",
       "cases_recovered              0\n",
       "cases_active                 0\n",
       "cases_cluster                0\n",
       "cases_unvax                  0\n",
       "cases_pvax                   0\n",
       "cases_fvax                   0\n",
       "cases_boost                  0\n",
       "cases_child                  0\n",
       "cases_adolescent             0\n",
       "cases_adult                  0\n",
       "cases_elderly                0\n",
       "cases_0_4                    0\n",
       "cases_5_11                   0\n",
       "cases_12_17                  0\n",
       "cases_18_29                  0\n",
       "cases_30_39                  0\n",
       "cases_40_49                  0\n",
       "cases_50_59                  0\n",
       "cases_60_69                  0\n",
       "cases_70_79                  0\n",
       "cases_80                     0\n",
       "cluster_import               0\n",
       "cluster_religious          342\n",
       "cluster_community          342\n",
       "cluster_highRisk             0\n",
       "cluster_education            0\n",
       "cluster_detentionCentre      0\n",
       "cluster_workplace            0\n",
       "dtype: int64"
      ]
     },
     "execution_count": 9,
     "metadata": {},
     "output_type": "execute_result"
    }
   ],
   "source": [
    "# Fill up NA values\n",
    "df_train[\"cases_new\"] = df_train[\"cases_new\"].interpolate()\n",
    "df_train.isna().sum()"
   ]
  },
  {
   "cell_type": "code",
   "execution_count": 10,
   "metadata": {},
   "outputs": [
    {
     "name": "stdout",
     "output_type": "stream",
     "text": [
      "Index(['date', 'cases_new', 'cases_import', 'cases_recovered', 'cases_active',\n",
      "       'cases_cluster', 'cases_unvax', 'cases_pvax', 'cases_fvax',\n",
      "       'cases_boost', 'cases_child', 'cases_adolescent', 'cases_adult',\n",
      "       'cases_elderly', 'cases_0_4', 'cases_5_11', 'cases_12_17',\n",
      "       'cases_18_29', 'cases_30_39', 'cases_40_49', 'cases_50_59',\n",
      "       'cases_60_69', 'cases_70_79', 'cases_80', 'cluster_import',\n",
      "       'cluster_religious', 'cluster_community', 'cluster_highRisk',\n",
      "       'cluster_education', 'cluster_detentionCentre', 'cluster_workplace'],\n",
      "      dtype='object')\n"
     ]
    }
   ],
   "source": [
    "print(df_train.columns)"
   ]
  },
  {
   "cell_type": "code",
   "execution_count": 11,
   "metadata": {},
   "outputs": [
    {
     "name": "stdout",
     "output_type": "stream",
     "text": [
      "Index(['date', 'cases_new', 'cases_import', 'cases_recovered', 'cases_active',\n",
      "       'cases_cluster', 'cases_unvax', 'cases_pvax', 'cases_fvax',\n",
      "       'cases_boost', 'cases_child', 'cases_adolescent', 'cases_adult',\n",
      "       'cases_elderly', 'cases_0_4', 'cases_5_11', 'cases_12_17',\n",
      "       'cases_18_29', 'cases_30_39', 'cases_40_49', 'cases_50_59',\n",
      "       'cases_60_69', 'cases_70_79', 'cases_80', 'cluster_import',\n",
      "       'cluster_religious', 'cluster_community', 'cluster_highRisk',\n",
      "       'cluster_education', 'cluster_detentionCentre', 'cluster_workplace'],\n",
      "      dtype='object')\n"
     ]
    }
   ],
   "source": [
    "print(df_test.columns)"
   ]
  },
  {
   "cell_type": "code",
   "execution_count": 12,
   "metadata": {},
   "outputs": [
    {
     "name": "stdout",
     "output_type": "stream",
     "text": [
      "           date cases_new  cases_import  cases_recovered  cases_active  \\\n",
      "98     2/5/2020                      11              116          1747   \n",
      "217   29/8/2020                      10                8           153   \n",
      "273  24/10/2020         ?            11              671          8953   \n",
      "279  30/10/2020                       0              491         10380   \n",
      "287   7/11/2020                       0             1029         11646   \n",
      "427   27/3/2021         ?             5             1257         14127   \n",
      "445   14/4/2021         ?             6             1485         16625   \n",
      "446   15/4/2021         ?            19             1259         17510   \n",
      "476   15/5/2021                       9             3432         41914   \n",
      "587    3/9/2021         ?            14            22399        254719   \n",
      "615   1/10/2021                      14            15891        159932   \n",
      "640  26/10/2021         ?            15             5607         72903   \n",
      "\n",
      "     cases_cluster  cases_unvax  cases_pvax  cases_fvax  cases_boost  ...  \\\n",
      "98              53          105           0           0            0  ...   \n",
      "217              0           11           0           0            0  ...   \n",
      "273            789         1228           0           0            0  ...   \n",
      "279            392          799           0           0            0  ...   \n",
      "287            679         1168           0           0            0  ...   \n",
      "427            494         1187          12           0            0  ...   \n",
      "445            689         1869          16           4            0  ...   \n",
      "446            896         2132          10           6            0  ...   \n",
      "476            999         4014          92          34            0  ...   \n",
      "587           2223         8600        4766        6012            0  ...   \n",
      "615            868         3750        1504        6634            1  ...   \n",
      "640            210         1467         301        3950            8  ...   \n",
      "\n",
      "     cases_60_69  cases_70_79  cases_80  cluster_import  cluster_religious  \\\n",
      "98             2            2         0        0.387574                NaN   \n",
      "217            1            3         0        0.387574                NaN   \n",
      "273           48           13         3        0.387574                NaN   \n",
      "279           35           12         2        0.387574                NaN   \n",
      "287           47            7         3        0.387574                NaN   \n",
      "427           49           20         8        0.000000                0.0   \n",
      "445          116           41         9        0.000000               28.0   \n",
      "446          122           60        20        0.000000               33.0   \n",
      "476          429          137        39        0.000000              169.0   \n",
      "587         1042          449       198        0.000000                5.0   \n",
      "615          784          385       124        0.000000                6.0   \n",
      "640          457          196        88        0.000000                0.0   \n",
      "\n",
      "     cluster_community  cluster_highRisk  cluster_education  \\\n",
      "98                 NaN              16.5               16.5   \n",
      "217                NaN              16.5               16.5   \n",
      "273                NaN              16.5               16.5   \n",
      "279                NaN              16.5               16.5   \n",
      "287                NaN              16.5               16.5   \n",
      "427              117.0               6.0               32.0   \n",
      "445              116.0               1.0               59.0   \n",
      "446              270.0               0.0              118.0   \n",
      "476              179.0              13.0               57.0   \n",
      "587              562.0              64.0               12.0   \n",
      "615              439.0              22.0                8.0   \n",
      "640               15.0               1.0               25.0   \n",
      "\n",
      "     cluster_detentionCentre  cluster_workplace  \n",
      "98                      42.5              560.0  \n",
      "217                     42.5              560.0  \n",
      "273                     42.5              560.0  \n",
      "279                     42.5              560.0  \n",
      "287                     42.5              560.0  \n",
      "427                      8.0              243.0  \n",
      "445                     94.0              235.0  \n",
      "446                     57.0              332.0  \n",
      "476                     29.0              397.0  \n",
      "587                    102.0             1191.0  \n",
      "615                      0.0              393.0  \n",
      "640                      0.0              169.0  \n",
      "\n",
      "[12 rows x 31 columns]\n"
     ]
    }
   ],
   "source": [
    "non_numeric_rows = df_train[(df_train['cases_new'] == '?') | pd.to_numeric(df_train['cases_new'], errors='coerce').isna()]\n",
    "print(non_numeric_rows)"
   ]
  },
  {
   "cell_type": "code",
   "execution_count": 13,
   "metadata": {},
   "outputs": [
    {
     "name": "stdout",
     "output_type": "stream",
     "text": [
      "0         4.0\n",
      "1         0.0\n",
      "2         0.0\n",
      "3         0.0\n",
      "4         3.0\n",
      "        ...  \n",
      "675    4879.0\n",
      "676    5439.0\n",
      "677    5806.0\n",
      "678    5551.0\n",
      "679    4896.0\n",
      "Name: cases_new, Length: 680, dtype: float64\n"
     ]
    }
   ],
   "source": [
    "df_train['cases_new'] = df_train['cases_new'].replace('?', np.nan)\n",
    "df_train['cases_new'] = pd.to_numeric(df_train['cases_new'], errors='coerce')\n",
    "\n",
    "print(df_train['cases_new'])"
   ]
  },
  {
   "cell_type": "code",
   "execution_count": 14,
   "metadata": {},
   "outputs": [],
   "source": [
    "df_train['cases_new'] = df_train['cases_new'].interpolate()"
   ]
  },
  {
   "cell_type": "code",
   "execution_count": 15,
   "metadata": {},
   "outputs": [
    {
     "name": "stdout",
     "output_type": "stream",
     "text": [
      "0         4\n",
      "1         0\n",
      "2         0\n",
      "3         0\n",
      "4         3\n",
      "       ... \n",
      "675    4879\n",
      "676    5439\n",
      "677    5806\n",
      "678    5551\n",
      "679    4896\n",
      "Name: cases_new, Length: 680, dtype: int64\n"
     ]
    }
   ],
   "source": [
    "df_train['cases_new'] = df_train['cases_new'].astype('int64')\n",
    "print(df_train['cases_new'])"
   ]
  },
  {
   "cell_type": "code",
   "execution_count": 16,
   "metadata": {},
   "outputs": [],
   "source": [
    "df_test['cases_new'] = df_test['cases_new'].interpolate()\n",
    "df_test['cases_new'] = df_test['cases_new'].astype('int64')"
   ]
  },
  {
   "attachments": {},
   "cell_type": "markdown",
   "metadata": {},
   "source": [
    "## 5. Data Preprocessing"
   ]
  },
  {
   "cell_type": "code",
   "execution_count": 17,
   "metadata": {},
   "outputs": [],
   "source": [
    "from sklearn.preprocessing import MinMaxScaler\n",
    "\n",
    "df_train_cases = df_train['cases_new']\n",
    "df_test_cases = df_test['cases_new']\n",
    "\n",
    "mms = MinMaxScaler()\n",
    "df_train_cases_scaled = mms.fit_transform(np.expand_dims(df_train_cases,axis=-1))\n",
    "df_test_cases_scaled = mms.transform(np.expand_dims(df_test_cases,axis=-1))"
   ]
  },
  {
   "attachments": {},
   "cell_type": "markdown",
   "metadata": {},
   "source": [
    "## 6.Data windowing"
   ]
  },
  {
   "cell_type": "code",
   "execution_count": 19,
   "metadata": {},
   "outputs": [],
   "source": [
    "#Data windowing\n",
    "window_size = 30 #30 window = 30 input\n",
    "X_train = []\n",
    "y_train = []\n",
    "\n",
    "for i in range(window_size,len(df_train_cases_scaled)):\n",
    "    X_train.append(df_train_cases_scaled[i-window_size:i])\n",
    "    y_train.append(df_train_cases_scaled[i,0])\n",
    "\n",
    "X_train = np.array(X_train)\n",
    "y_train = np.array(y_train)"
   ]
  },
  {
   "cell_type": "code",
   "execution_count": 20,
   "metadata": {},
   "outputs": [],
   "source": [
    "#Concatenate train and test data together\n",
    "df_cases_stacked = np.concatenate((df_train_cases_scaled,df_test_cases_scaled))\n",
    "\n",
    "#use method 2\n",
    "length_days = window_size + len(df_test_cases_scaled)\n",
    "tot_input = df_cases_stacked[-length_days:]\n",
    "data_test = df_cases_stacked[-length_days:]\n",
    "\n",
    "X_test = []\n",
    "y_test = []\n",
    "\n",
    "for i in range(window_size, len(data_test)):\n",
    "    X_test.append(data_test[i-window_size:i])\n",
    "    y_test.append(data_test[i])\n",
    "\n",
    "X_train = np.array(X_train)\n",
    "y_train = np.array(y_train)"
   ]
  },
  {
   "attachments": {},
   "cell_type": "markdown",
   "metadata": {},
   "source": [
    "## 7. Model development"
   ]
  },
  {
   "cell_type": "code",
   "execution_count": 21,
   "metadata": {},
   "outputs": [
    {
     "name": "stdout",
     "output_type": "stream",
     "text": [
      "Model: \"sequential\"\n",
      "_________________________________________________________________\n",
      " Layer (type)                Output Shape              Param #   \n",
      "=================================================================\n",
      " lstm (LSTM)                 (None, 30, 64)            16896     \n",
      "                                                                 \n",
      " dropout (Dropout)           (None, 30, 64)            0         \n",
      "                                                                 \n",
      " lstm_1 (LSTM)               (None, 30, 64)            33024     \n",
      "                                                                 \n",
      " dropout_1 (Dropout)         (None, 30, 64)            0         \n",
      "                                                                 \n",
      " lstm_2 (LSTM)               (None, 64)                33024     \n",
      "                                                                 \n",
      " dropout_2 (Dropout)         (None, 64)                0         \n",
      "                                                                 \n",
      " dense (Dense)               (None, 1)                 65        \n",
      "                                                                 \n",
      "=================================================================\n",
      "Total params: 83,009\n",
      "Trainable params: 83,009\n",
      "Non-trainable params: 0\n",
      "_________________________________________________________________\n",
      "You must install pydot (`pip install pydot`) and install graphviz (see instructions at https://graphviz.gitlab.io/download/) for plot_model to work.\n"
     ]
    }
   ],
   "source": [
    "from tensorflow.keras import Sequential,Input\n",
    "from tensorflow.keras.layers import LSTM,Dropout,Dense\n",
    "from tensorflow.keras.utils import plot_model\n",
    "\n",
    "input_shape = np.shape(X_train)[1:]\n",
    "\n",
    "model = Sequential()\n",
    "model.add(Input(shape=(input_shape)))\n",
    "model.add(LSTM(64,return_sequences=True))\n",
    "model.add(Dropout(0.3))\n",
    "model.add(LSTM(64,return_sequences=True))\n",
    "model.add(Dropout(0.3))\n",
    "model.add(LSTM(64))\n",
    "model.add(Dropout(0.3))\n",
    "model.add(Dense(1)) \n",
    "\n",
    "model.summary()\n",
    "plot_model(model,show_shapes=True,show_layer_names=True)"
   ]
  },
  {
   "attachments": {},
   "cell_type": "markdown",
   "metadata": {},
   "source": [
    "## 8. Model Compilation"
   ]
  },
  {
   "cell_type": "code",
   "execution_count": 22,
   "metadata": {},
   "outputs": [],
   "source": [
    "model.compile(optimizer='adam',loss='mse',metrics=['mae','mape','mse'])"
   ]
  },
  {
   "attachments": {},
   "cell_type": "markdown",
   "metadata": {},
   "source": [
    "## 9. Model Training"
   ]
  },
  {
   "cell_type": "code",
   "execution_count": 23,
   "metadata": {},
   "outputs": [
    {
     "name": "stdout",
     "output_type": "stream",
     "text": [
      "(650, 30, 1)\n",
      "(650,)\n"
     ]
    }
   ],
   "source": [
    "print(X_train.shape)\n",
    "print(y_train.shape) "
   ]
  },
  {
   "cell_type": "code",
   "execution_count": 24,
   "metadata": {},
   "outputs": [],
   "source": [
    "y_train = y_train.reshape((y_train.shape[0], 1))"
   ]
  },
  {
   "cell_type": "code",
   "execution_count": 25,
   "metadata": {},
   "outputs": [],
   "source": [
    "X_test = []\n",
    "y_test = []\n",
    "\n",
    "for i in range(window_size, len(data_test)):\n",
    "    X_test.append(data_test[i - window_size:i])\n",
    "    y_test.append(data_test[i])\n",
    "\n",
    "X_test = np.array(X_test)\n",
    "y_test = np.array(y_test)\n",
    "\n",
    "#Reshape X_test to have the same shape as X_train\n",
    "X_test = X_test.reshape((X_test.shape[0], X_test.shape[1], 1))"
   ]
  },
  {
   "cell_type": "code",
   "execution_count": 26,
   "metadata": {},
   "outputs": [],
   "source": [
    "#Create a TensorBoard callback object for the usage of TensorBoard\n",
    "import tensorflow as tf\n",
    "import datetime\n",
    "from tensorflow.keras import callbacks\n",
    "from tensorflow.keras.callbacks import TensorBoard\n",
    "base_log_path = r\"tensorboard_logs\\capstone1\"\n",
    "log_path = os.path.join(base_log_path,datetime.datetime.now().strftime(\"%Y%m%d-%H%M%S\"))\n",
    "tb = callbacks.TensorBoard(log_path)"
   ]
  },
  {
   "cell_type": "code",
   "execution_count": 33,
   "metadata": {},
   "outputs": [
    {
     "name": "stdout",
     "output_type": "stream",
     "text": [
      "Epoch 1/100\n",
      "21/21 [==============================] - 1s 50ms/step - loss: 0.0019 - mae: 0.0277 - mape: 152680.1406 - mse: 0.0019 - val_loss: 0.0137 - val_mae: 0.0736 - val_mape: 15.3838 - val_mse: 0.0137\n",
      "Epoch 2/100\n",
      "21/21 [==============================] - 1s 44ms/step - loss: 0.0018 - mae: 0.0268 - mape: 91374.0625 - mse: 0.0018 - val_loss: 0.0131 - val_mae: 0.0713 - val_mape: 14.7096 - val_mse: 0.0131\n",
      "Epoch 3/100\n",
      "21/21 [==============================] - 1s 44ms/step - loss: 0.0019 - mae: 0.0268 - mape: 117472.4219 - mse: 0.0019 - val_loss: 0.0138 - val_mae: 0.0736 - val_mape: 15.3447 - val_mse: 0.0138\n",
      "Epoch 4/100\n",
      "21/21 [==============================] - 1s 45ms/step - loss: 0.0020 - mae: 0.0281 - mape: 223891.2500 - mse: 0.0020 - val_loss: 0.0126 - val_mae: 0.0705 - val_mape: 14.5388 - val_mse: 0.0126\n",
      "Epoch 5/100\n",
      "21/21 [==============================] - 1s 49ms/step - loss: 0.0023 - mae: 0.0291 - mape: 191652.1406 - mse: 0.0023 - val_loss: 0.0194 - val_mae: 0.0853 - val_mape: 15.7534 - val_mse: 0.0194\n",
      "Epoch 6/100\n",
      "21/21 [==============================] - 1s 45ms/step - loss: 0.0016 - mae: 0.0252 - mape: 95236.9375 - mse: 0.0016 - val_loss: 0.0151 - val_mae: 0.0766 - val_mape: 15.5867 - val_mse: 0.0151\n",
      "Epoch 7/100\n",
      "21/21 [==============================] - 1s 46ms/step - loss: 0.0017 - mae: 0.0263 - mape: 56450.5156 - mse: 0.0017 - val_loss: 0.0137 - val_mae: 0.0731 - val_mape: 14.6831 - val_mse: 0.0137\n",
      "Epoch 8/100\n",
      "21/21 [==============================] - 1s 46ms/step - loss: 0.0016 - mae: 0.0261 - mape: 40536.4648 - mse: 0.0016 - val_loss: 0.0122 - val_mae: 0.0708 - val_mape: 15.8445 - val_mse: 0.0122\n",
      "Epoch 9/100\n",
      "21/21 [==============================] - 1s 43ms/step - loss: 0.0018 - mae: 0.0265 - mape: 98342.7734 - mse: 0.0018 - val_loss: 0.0124 - val_mae: 0.0708 - val_mape: 15.2473 - val_mse: 0.0124\n",
      "Epoch 10/100\n",
      "21/21 [==============================] - 1s 46ms/step - loss: 0.0016 - mae: 0.0253 - mape: 76430.3281 - mse: 0.0016 - val_loss: 0.0129 - val_mae: 0.0710 - val_mape: 14.4155 - val_mse: 0.0129\n",
      "Epoch 11/100\n",
      "21/21 [==============================] - 1s 56ms/step - loss: 0.0017 - mae: 0.0263 - mape: 89654.8594 - mse: 0.0017 - val_loss: 0.0126 - val_mae: 0.0710 - val_mape: 14.6997 - val_mse: 0.0126\n",
      "Epoch 12/100\n",
      "21/21 [==============================] - 1s 47ms/step - loss: 0.0018 - mae: 0.0267 - mape: 89757.6641 - mse: 0.0018 - val_loss: 0.0151 - val_mae: 0.0767 - val_mape: 15.0472 - val_mse: 0.0151\n",
      "Epoch 13/100\n",
      "21/21 [==============================] - 2s 77ms/step - loss: 0.0017 - mae: 0.0265 - mape: 80085.0156 - mse: 0.0017 - val_loss: 0.0171 - val_mae: 0.0820 - val_mape: 15.7354 - val_mse: 0.0171\n",
      "Epoch 14/100\n",
      "21/21 [==============================] - 1s 45ms/step - loss: 0.0019 - mae: 0.0283 - mape: 129739.3203 - mse: 0.0019 - val_loss: 0.0161 - val_mae: 0.0781 - val_mape: 15.0968 - val_mse: 0.0161\n",
      "Epoch 15/100\n",
      "21/21 [==============================] - 1s 43ms/step - loss: 0.0017 - mae: 0.0261 - mape: 94381.9219 - mse: 0.0017 - val_loss: 0.0161 - val_mae: 0.0786 - val_mape: 15.1534 - val_mse: 0.0161\n",
      "Epoch 16/100\n",
      "21/21 [==============================] - 1s 43ms/step - loss: 0.0017 - mae: 0.0265 - mape: 98116.2266 - mse: 0.0017 - val_loss: 0.0147 - val_mae: 0.0756 - val_mape: 14.8293 - val_mse: 0.0147\n",
      "Epoch 17/100\n",
      "21/21 [==============================] - 1s 43ms/step - loss: 0.0017 - mae: 0.0265 - mape: 86095.8125 - mse: 0.0017 - val_loss: 0.0153 - val_mae: 0.0788 - val_mape: 16.9582 - val_mse: 0.0153\n",
      "Epoch 18/100\n",
      "21/21 [==============================] - 1s 43ms/step - loss: 0.0016 - mae: 0.0270 - mape: 143337.0156 - mse: 0.0016 - val_loss: 0.0149 - val_mae: 0.0759 - val_mape: 14.8956 - val_mse: 0.0149\n",
      "Epoch 19/100\n",
      "21/21 [==============================] - 1s 43ms/step - loss: 0.0015 - mae: 0.0255 - mape: 92880.9453 - mse: 0.0015 - val_loss: 0.0152 - val_mae: 0.0777 - val_mape: 15.4850 - val_mse: 0.0152\n",
      "Epoch 20/100\n",
      "21/21 [==============================] - 1s 43ms/step - loss: 0.0015 - mae: 0.0261 - mape: 68958.0000 - mse: 0.0015 - val_loss: 0.0146 - val_mae: 0.0753 - val_mape: 14.8796 - val_mse: 0.0146\n",
      "Epoch 21/100\n",
      "21/21 [==============================] - 1s 47ms/step - loss: 0.0016 - mae: 0.0253 - mape: 94083.8438 - mse: 0.0016 - val_loss: 0.0141 - val_mae: 0.0750 - val_mape: 15.3213 - val_mse: 0.0141\n",
      "Epoch 22/100\n",
      "21/21 [==============================] - 1s 45ms/step - loss: 0.0016 - mae: 0.0266 - mape: 137506.8125 - mse: 0.0016 - val_loss: 0.0123 - val_mae: 0.0702 - val_mape: 14.6228 - val_mse: 0.0123\n",
      "Epoch 23/100\n",
      "21/21 [==============================] - 1s 45ms/step - loss: 0.0014 - mae: 0.0258 - mape: 154452.3125 - mse: 0.0014 - val_loss: 0.0146 - val_mae: 0.0754 - val_mape: 15.2387 - val_mse: 0.0146\n",
      "Epoch 24/100\n",
      "21/21 [==============================] - 1s 43ms/step - loss: 0.0020 - mae: 0.0267 - mape: 94196.9609 - mse: 0.0020 - val_loss: 0.0122 - val_mae: 0.0721 - val_mape: 16.9931 - val_mse: 0.0122\n",
      "Epoch 25/100\n",
      "21/21 [==============================] - 1s 43ms/step - loss: 0.0020 - mae: 0.0283 - mape: 142774.6875 - mse: 0.0020 - val_loss: 0.0148 - val_mae: 0.0759 - val_mape: 14.9926 - val_mse: 0.0148\n",
      "Epoch 26/100\n",
      "21/21 [==============================] - 1s 45ms/step - loss: 0.0017 - mae: 0.0268 - mape: 136397.7969 - mse: 0.0017 - val_loss: 0.0160 - val_mae: 0.0791 - val_mape: 15.1832 - val_mse: 0.0160\n",
      "Epoch 27/100\n",
      "21/21 [==============================] - 1s 47ms/step - loss: 0.0019 - mae: 0.0270 - mape: 99833.4141 - mse: 0.0019 - val_loss: 0.0122 - val_mae: 0.0707 - val_mape: 15.9234 - val_mse: 0.0122\n",
      "Epoch 28/100\n",
      "21/21 [==============================] - 1s 48ms/step - loss: 0.0018 - mae: 0.0272 - mape: 111250.8281 - mse: 0.0018 - val_loss: 0.0147 - val_mae: 0.0754 - val_mape: 14.8068 - val_mse: 0.0147\n",
      "Epoch 29/100\n",
      "21/21 [==============================] - 1s 45ms/step - loss: 0.0019 - mae: 0.0276 - mape: 70599.8281 - mse: 0.0019 - val_loss: 0.0130 - val_mae: 0.0716 - val_mape: 14.5424 - val_mse: 0.0130\n",
      "Epoch 30/100\n",
      "21/21 [==============================] - 1s 45ms/step - loss: 0.0015 - mae: 0.0249 - mape: 129099.2266 - mse: 0.0015 - val_loss: 0.0150 - val_mae: 0.0762 - val_mape: 15.1170 - val_mse: 0.0150\n",
      "Epoch 31/100\n",
      "21/21 [==============================] - 1s 46ms/step - loss: 0.0013 - mae: 0.0243 - mape: 122820.1719 - mse: 0.0013 - val_loss: 0.0131 - val_mae: 0.0720 - val_mape: 15.1041 - val_mse: 0.0131\n",
      "Epoch 32/100\n",
      "21/21 [==============================] - 1s 52ms/step - loss: 0.0016 - mae: 0.0263 - mape: 149676.9531 - mse: 0.0016 - val_loss: 0.0118 - val_mae: 0.0697 - val_mape: 15.4577 - val_mse: 0.0118\n",
      "Epoch 33/100\n",
      "21/21 [==============================] - 1s 47ms/step - loss: 0.0016 - mae: 0.0267 - mape: 160427.7188 - mse: 0.0016 - val_loss: 0.0139 - val_mae: 0.0739 - val_mape: 14.8125 - val_mse: 0.0139\n",
      "Epoch 34/100\n",
      "21/21 [==============================] - 1s 44ms/step - loss: 0.0017 - mae: 0.0261 - mape: 105676.5078 - mse: 0.0017 - val_loss: 0.0121 - val_mae: 0.0702 - val_mape: 15.6200 - val_mse: 0.0121\n",
      "Epoch 35/100\n",
      "21/21 [==============================] - 1s 48ms/step - loss: 0.0018 - mae: 0.0272 - mape: 158847.7812 - mse: 0.0018 - val_loss: 0.0119 - val_mae: 0.0689 - val_mape: 14.3800 - val_mse: 0.0119\n",
      "Epoch 36/100\n",
      "21/21 [==============================] - 1s 44ms/step - loss: 0.0016 - mae: 0.0256 - mape: 119942.2031 - mse: 0.0016 - val_loss: 0.0133 - val_mae: 0.0721 - val_mape: 14.8217 - val_mse: 0.0133\n",
      "Epoch 37/100\n",
      "21/21 [==============================] - 1s 44ms/step - loss: 0.0014 - mae: 0.0241 - mape: 87725.8438 - mse: 0.0014 - val_loss: 0.0149 - val_mae: 0.0761 - val_mape: 14.8188 - val_mse: 0.0149\n",
      "Epoch 38/100\n",
      "21/21 [==============================] - 1s 51ms/step - loss: 0.0016 - mae: 0.0255 - mape: 81831.9453 - mse: 0.0016 - val_loss: 0.0174 - val_mae: 0.0817 - val_mape: 15.3308 - val_mse: 0.0174\n",
      "Epoch 39/100\n",
      "21/21 [==============================] - 1s 44ms/step - loss: 0.0018 - mae: 0.0264 - mape: 136178.5000 - mse: 0.0018 - val_loss: 0.0183 - val_mae: 0.0840 - val_mape: 15.7961 - val_mse: 0.0183\n",
      "Epoch 40/100\n",
      "21/21 [==============================] - 1s 46ms/step - loss: 0.0017 - mae: 0.0258 - mape: 138845.2344 - mse: 0.0017 - val_loss: 0.0230 - val_mae: 0.0931 - val_mape: 16.3746 - val_mse: 0.0230\n",
      "Epoch 41/100\n",
      "21/21 [==============================] - 1s 42ms/step - loss: 0.0018 - mae: 0.0285 - mape: 214185.1562 - mse: 0.0018 - val_loss: 0.0168 - val_mae: 0.0806 - val_mape: 15.2039 - val_mse: 0.0168\n",
      "Epoch 42/100\n",
      "21/21 [==============================] - 1s 46ms/step - loss: 0.0017 - mae: 0.0255 - mape: 140954.0625 - mse: 0.0017 - val_loss: 0.0155 - val_mae: 0.0793 - val_mape: 15.9284 - val_mse: 0.0155\n",
      "Epoch 43/100\n",
      "21/21 [==============================] - 1s 47ms/step - loss: 0.0017 - mae: 0.0278 - mape: 83276.9219 - mse: 0.0017 - val_loss: 0.0167 - val_mae: 0.0805 - val_mape: 15.2066 - val_mse: 0.0167\n",
      "Epoch 44/100\n",
      "21/21 [==============================] - 1s 45ms/step - loss: 0.0015 - mae: 0.0248 - mape: 133313.4219 - mse: 0.0015 - val_loss: 0.0218 - val_mae: 0.0915 - val_mape: 16.2096 - val_mse: 0.0218\n",
      "Epoch 45/100\n",
      "21/21 [==============================] - 1s 49ms/step - loss: 0.0015 - mae: 0.0258 - mape: 135711.0312 - mse: 0.0015 - val_loss: 0.0150 - val_mae: 0.0766 - val_mape: 15.2312 - val_mse: 0.0150\n",
      "Epoch 46/100\n",
      "21/21 [==============================] - 1s 46ms/step - loss: 0.0016 - mae: 0.0260 - mape: 116155.9531 - mse: 0.0016 - val_loss: 0.0127 - val_mae: 0.0710 - val_mape: 15.1635 - val_mse: 0.0127\n",
      "Epoch 47/100\n",
      "21/21 [==============================] - 1s 42ms/step - loss: 0.0016 - mae: 0.0257 - mape: 94894.2969 - mse: 0.0016 - val_loss: 0.0137 - val_mae: 0.0729 - val_mape: 14.5831 - val_mse: 0.0137\n",
      "Epoch 48/100\n",
      "21/21 [==============================] - 1s 46ms/step - loss: 0.0016 - mae: 0.0254 - mape: 119630.0312 - mse: 0.0016 - val_loss: 0.0168 - val_mae: 0.0804 - val_mape: 15.3351 - val_mse: 0.0168\n",
      "Epoch 49/100\n",
      "21/21 [==============================] - 1s 43ms/step - loss: 0.0014 - mae: 0.0257 - mape: 169487.9844 - mse: 0.0014 - val_loss: 0.0186 - val_mae: 0.0842 - val_mape: 15.5615 - val_mse: 0.0186\n",
      "Epoch 50/100\n",
      "21/21 [==============================] - 1s 46ms/step - loss: 0.0016 - mae: 0.0258 - mape: 86103.8984 - mse: 0.0016 - val_loss: 0.0154 - val_mae: 0.0775 - val_mape: 14.9812 - val_mse: 0.0154\n",
      "Epoch 51/100\n",
      "21/21 [==============================] - 1s 42ms/step - loss: 0.0014 - mae: 0.0249 - mape: 199387.4844 - mse: 0.0014 - val_loss: 0.0163 - val_mae: 0.0798 - val_mape: 15.1944 - val_mse: 0.0163\n",
      "Epoch 52/100\n",
      "21/21 [==============================] - 1s 45ms/step - loss: 0.0015 - mae: 0.0246 - mape: 95608.4375 - mse: 0.0015 - val_loss: 0.0173 - val_mae: 0.0818 - val_mape: 15.3392 - val_mse: 0.0173\n",
      "Epoch 53/100\n",
      "21/21 [==============================] - 1s 44ms/step - loss: 0.0017 - mae: 0.0265 - mape: 117466.5234 - mse: 0.0017 - val_loss: 0.0158 - val_mae: 0.0786 - val_mape: 15.1634 - val_mse: 0.0158\n",
      "Epoch 54/100\n",
      "21/21 [==============================] - 1s 44ms/step - loss: 0.0016 - mae: 0.0256 - mape: 38995.5742 - mse: 0.0016 - val_loss: 0.0170 - val_mae: 0.0817 - val_mape: 15.4514 - val_mse: 0.0170\n",
      "Epoch 55/100\n",
      "21/21 [==============================] - 1s 46ms/step - loss: 0.0016 - mae: 0.0261 - mape: 91807.6484 - mse: 0.0016 - val_loss: 0.0159 - val_mae: 0.0785 - val_mape: 15.0164 - val_mse: 0.0159\n",
      "Epoch 56/100\n",
      "21/21 [==============================] - 1s 47ms/step - loss: 0.0016 - mae: 0.0260 - mape: 92995.4141 - mse: 0.0016 - val_loss: 0.0169 - val_mae: 0.0815 - val_mape: 15.8241 - val_mse: 0.0169\n",
      "Epoch 57/100\n",
      "21/21 [==============================] - 1s 47ms/step - loss: 0.0015 - mae: 0.0250 - mape: 88906.0391 - mse: 0.0015 - val_loss: 0.0139 - val_mae: 0.0739 - val_mape: 15.0458 - val_mse: 0.0139\n",
      "Epoch 58/100\n",
      "21/21 [==============================] - 1s 45ms/step - loss: 0.0016 - mae: 0.0262 - mape: 98412.4375 - mse: 0.0016 - val_loss: 0.0140 - val_mae: 0.0758 - val_mape: 16.2930 - val_mse: 0.0140\n",
      "Epoch 59/100\n",
      "21/21 [==============================] - 1s 45ms/step - loss: 0.0015 - mae: 0.0251 - mape: 39616.1172 - mse: 0.0015 - val_loss: 0.0189 - val_mae: 0.0840 - val_mape: 15.4032 - val_mse: 0.0189\n",
      "Epoch 60/100\n",
      "21/21 [==============================] - 1s 49ms/step - loss: 0.0016 - mae: 0.0253 - mape: 61804.0742 - mse: 0.0016 - val_loss: 0.0160 - val_mae: 0.0792 - val_mape: 15.5420 - val_mse: 0.0160\n",
      "Epoch 61/100\n",
      "21/21 [==============================] - 1s 50ms/step - loss: 0.0016 - mae: 0.0257 - mape: 72991.5312 - mse: 0.0016 - val_loss: 0.0179 - val_mae: 0.0831 - val_mape: 15.3659 - val_mse: 0.0179\n",
      "Epoch 62/100\n",
      "21/21 [==============================] - 1s 51ms/step - loss: 0.0015 - mae: 0.0250 - mape: 33537.6875 - mse: 0.0015 - val_loss: 0.0172 - val_mae: 0.0823 - val_mape: 16.1882 - val_mse: 0.0172\n",
      "Epoch 63/100\n",
      "21/21 [==============================] - 1s 54ms/step - loss: 0.0013 - mae: 0.0249 - mape: 105449.6484 - mse: 0.0013 - val_loss: 0.0184 - val_mae: 0.0850 - val_mape: 15.7514 - val_mse: 0.0184\n",
      "Epoch 64/100\n",
      "21/21 [==============================] - 1s 52ms/step - loss: 0.0015 - mae: 0.0262 - mape: 96369.0703 - mse: 0.0015 - val_loss: 0.0193 - val_mae: 0.0868 - val_mape: 15.7811 - val_mse: 0.0193\n",
      "Epoch 65/100\n",
      "21/21 [==============================] - 1s 60ms/step - loss: 0.0016 - mae: 0.0266 - mape: 112880.1719 - mse: 0.0016 - val_loss: 0.0196 - val_mae: 0.0872 - val_mape: 15.7195 - val_mse: 0.0196\n",
      "Epoch 66/100\n",
      "21/21 [==============================] - 2s 89ms/step - loss: 0.0018 - mae: 0.0261 - mape: 89860.3516 - mse: 0.0018 - val_loss: 0.0240 - val_mae: 0.0953 - val_mape: 16.3968 - val_mse: 0.0240\n",
      "Epoch 67/100\n",
      "21/21 [==============================] - 2s 89ms/step - loss: 0.0017 - mae: 0.0265 - mape: 133561.0469 - mse: 0.0017 - val_loss: 0.0192 - val_mae: 0.0867 - val_mape: 15.6667 - val_mse: 0.0192\n",
      "Epoch 68/100\n",
      "21/21 [==============================] - 2s 87ms/step - loss: 0.0015 - mae: 0.0252 - mape: 55145.2930 - mse: 0.0015 - val_loss: 0.0193 - val_mae: 0.0861 - val_mape: 15.6017 - val_mse: 0.0193\n",
      "Epoch 69/100\n",
      "21/21 [==============================] - 2s 85ms/step - loss: 0.0015 - mae: 0.0251 - mape: 105188.8594 - mse: 0.0015 - val_loss: 0.0212 - val_mae: 0.0905 - val_mape: 16.1040 - val_mse: 0.0212\n",
      "Epoch 70/100\n",
      "21/21 [==============================] - 2s 73ms/step - loss: 0.0015 - mae: 0.0259 - mape: 94587.6016 - mse: 0.0015 - val_loss: 0.0180 - val_mae: 0.0835 - val_mape: 15.4557 - val_mse: 0.0180\n",
      "Epoch 71/100\n",
      "21/21 [==============================] - 2s 88ms/step - loss: 0.0016 - mae: 0.0259 - mape: 109003.9844 - mse: 0.0016 - val_loss: 0.0176 - val_mae: 0.0820 - val_mape: 15.2987 - val_mse: 0.0176\n",
      "Epoch 72/100\n",
      "21/21 [==============================] - 1s 64ms/step - loss: 0.0013 - mae: 0.0249 - mape: 111650.4219 - mse: 0.0013 - val_loss: 0.0177 - val_mae: 0.0828 - val_mape: 15.5587 - val_mse: 0.0177\n",
      "Epoch 73/100\n",
      "21/21 [==============================] - 2s 80ms/step - loss: 0.0015 - mae: 0.0255 - mape: 122452.9375 - mse: 0.0015 - val_loss: 0.0166 - val_mae: 0.0810 - val_mape: 16.1709 - val_mse: 0.0166\n",
      "Epoch 74/100\n",
      "21/21 [==============================] - 2s 86ms/step - loss: 0.0016 - mae: 0.0253 - mape: 98230.7422 - mse: 0.0016 - val_loss: 0.0191 - val_mae: 0.0859 - val_mape: 15.6022 - val_mse: 0.0191\n",
      "Epoch 75/100\n",
      "21/21 [==============================] - 2s 87ms/step - loss: 0.0016 - mae: 0.0267 - mape: 142811.6875 - mse: 0.0016 - val_loss: 0.0215 - val_mae: 0.0928 - val_mape: 16.7813 - val_mse: 0.0215\n",
      "Epoch 76/100\n",
      "21/21 [==============================] - 2s 83ms/step - loss: 0.0016 - mae: 0.0272 - mape: 126441.6719 - mse: 0.0016 - val_loss: 0.0183 - val_mae: 0.0853 - val_mape: 15.7829 - val_mse: 0.0183\n",
      "Epoch 77/100\n",
      "21/21 [==============================] - 2s 88ms/step - loss: 0.0017 - mae: 0.0258 - mape: 73148.9062 - mse: 0.0017 - val_loss: 0.0228 - val_mae: 0.0937 - val_mape: 16.3676 - val_mse: 0.0228\n",
      "Epoch 78/100\n",
      "21/21 [==============================] - 2s 72ms/step - loss: 0.0016 - mae: 0.0256 - mape: 69214.8125 - mse: 0.0016 - val_loss: 0.0183 - val_mae: 0.0844 - val_mape: 15.5837 - val_mse: 0.0183\n",
      "Epoch 79/100\n",
      "21/21 [==============================] - 2s 84ms/step - loss: 0.0015 - mae: 0.0257 - mape: 88125.3359 - mse: 0.0015 - val_loss: 0.0172 - val_mae: 0.0813 - val_mape: 15.3781 - val_mse: 0.0172\n",
      "Epoch 80/100\n",
      "21/21 [==============================] - 2s 86ms/step - loss: 0.0021 - mae: 0.0279 - mape: 85011.8047 - mse: 0.0021 - val_loss: 0.0181 - val_mae: 0.0861 - val_mape: 17.6959 - val_mse: 0.0181\n",
      "Epoch 81/100\n",
      "21/21 [==============================] - 2s 87ms/step - loss: 0.0015 - mae: 0.0251 - mape: 151718.2812 - mse: 0.0015 - val_loss: 0.0170 - val_mae: 0.0817 - val_mape: 15.2729 - val_mse: 0.0170\n",
      "Epoch 82/100\n",
      "21/21 [==============================] - 2s 75ms/step - loss: 0.0015 - mae: 0.0253 - mape: 105837.4766 - mse: 0.0015 - val_loss: 0.0221 - val_mae: 0.0927 - val_mape: 16.1852 - val_mse: 0.0221\n",
      "Epoch 83/100\n",
      "21/21 [==============================] - 1s 63ms/step - loss: 0.0017 - mae: 0.0272 - mape: 124649.2891 - mse: 0.0017 - val_loss: 0.0222 - val_mae: 0.0934 - val_mape: 17.5038 - val_mse: 0.0222\n",
      "Epoch 84/100\n",
      "21/21 [==============================] - 2s 85ms/step - loss: 0.0016 - mae: 0.0269 - mape: 36857.0000 - mse: 0.0016 - val_loss: 0.0172 - val_mae: 0.0826 - val_mape: 15.3734 - val_mse: 0.0172\n",
      "Epoch 85/100\n",
      "21/21 [==============================] - 2s 88ms/step - loss: 0.0013 - mae: 0.0241 - mape: 119599.1016 - mse: 0.0013 - val_loss: 0.0230 - val_mae: 0.0948 - val_mape: 16.5144 - val_mse: 0.0230\n",
      "Epoch 86/100\n",
      "21/21 [==============================] - 2s 83ms/step - loss: 0.0015 - mae: 0.0249 - mape: 87473.6406 - mse: 0.0015 - val_loss: 0.0198 - val_mae: 0.0881 - val_mape: 15.9688 - val_mse: 0.0198\n",
      "Epoch 87/100\n",
      "21/21 [==============================] - 2s 85ms/step - loss: 0.0017 - mae: 0.0267 - mape: 130243.4062 - mse: 0.0017 - val_loss: 0.0198 - val_mae: 0.0900 - val_mape: 17.7231 - val_mse: 0.0198\n",
      "Epoch 88/100\n",
      "21/21 [==============================] - 2s 86ms/step - loss: 0.0016 - mae: 0.0267 - mape: 158042.2500 - mse: 0.0016 - val_loss: 0.0209 - val_mae: 0.0904 - val_mape: 16.3139 - val_mse: 0.0209\n",
      "Epoch 89/100\n",
      "21/21 [==============================] - 2s 87ms/step - loss: 0.0014 - mae: 0.0255 - mape: 130826.7578 - mse: 0.0014 - val_loss: 0.0231 - val_mae: 0.0946 - val_mape: 16.3896 - val_mse: 0.0231\n",
      "Epoch 90/100\n",
      "21/21 [==============================] - 2s 87ms/step - loss: 0.0014 - mae: 0.0254 - mape: 92933.3594 - mse: 0.0014 - val_loss: 0.0191 - val_mae: 0.0873 - val_mape: 16.3438 - val_mse: 0.0191\n",
      "Epoch 91/100\n",
      "21/21 [==============================] - 1s 65ms/step - loss: 0.0018 - mae: 0.0270 - mape: 119563.7188 - mse: 0.0018 - val_loss: 0.0192 - val_mae: 0.0876 - val_mape: 16.4537 - val_mse: 0.0192\n",
      "Epoch 92/100\n",
      "21/21 [==============================] - 2s 83ms/step - loss: 0.0014 - mae: 0.0248 - mape: 152446.2188 - mse: 0.0014 - val_loss: 0.0185 - val_mae: 0.0856 - val_mape: 15.9114 - val_mse: 0.0185\n",
      "Epoch 93/100\n",
      "21/21 [==============================] - 2s 83ms/step - loss: 0.0014 - mae: 0.0240 - mape: 152484.7031 - mse: 0.0014 - val_loss: 0.0200 - val_mae: 0.0888 - val_mape: 15.9048 - val_mse: 0.0200\n",
      "Epoch 94/100\n",
      "21/21 [==============================] - 2s 88ms/step - loss: 0.0018 - mae: 0.0266 - mape: 109130.1406 - mse: 0.0018 - val_loss: 0.0141 - val_mae: 0.0767 - val_mape: 16.8280 - val_mse: 0.0141\n",
      "Epoch 95/100\n",
      "21/21 [==============================] - 2s 76ms/step - loss: 0.0021 - mae: 0.0287 - mape: 183208.8906 - mse: 0.0021 - val_loss: 0.0166 - val_mae: 0.0810 - val_mape: 15.4891 - val_mse: 0.0166\n",
      "Epoch 96/100\n",
      "21/21 [==============================] - 2s 85ms/step - loss: 0.0020 - mae: 0.0292 - mape: 189005.4062 - mse: 0.0020 - val_loss: 0.0213 - val_mae: 0.0913 - val_mape: 16.2366 - val_mse: 0.0213\n",
      "Epoch 97/100\n",
      "21/21 [==============================] - 2s 87ms/step - loss: 0.0019 - mae: 0.0269 - mape: 126675.4453 - mse: 0.0019 - val_loss: 0.0223 - val_mae: 0.0933 - val_mape: 16.3720 - val_mse: 0.0223\n",
      "Epoch 98/100\n",
      "21/21 [==============================] - 2s 84ms/step - loss: 0.0016 - mae: 0.0257 - mape: 141694.8594 - mse: 0.0016 - val_loss: 0.0145 - val_mae: 0.0764 - val_mape: 15.1187 - val_mse: 0.0145\n",
      "Epoch 99/100\n",
      "21/21 [==============================] - 2s 83ms/step - loss: 0.0018 - mae: 0.0289 - mape: 194235.6094 - mse: 0.0018 - val_loss: 0.0170 - val_mae: 0.0864 - val_mape: 19.5223 - val_mse: 0.0170\n",
      "Epoch 100/100\n",
      "21/21 [==============================] - 2s 87ms/step - loss: 0.0017 - mae: 0.0270 - mape: 145924.9844 - mse: 0.0017 - val_loss: 0.0226 - val_mae: 0.0939 - val_mape: 16.5846 - val_mse: 0.0226\n"
     ]
    }
   ],
   "source": [
    "history = model.fit(X_train,y_train,epochs=100,validation_data=(X_test,y_test))"
   ]
  },
  {
   "cell_type": "code",
   "execution_count": 34,
   "metadata": {},
   "outputs": [
    {
     "name": "stdout",
     "output_type": "stream",
     "text": [
      "Epoch 1/100\n",
      "21/21 [==============================] - 1s 55ms/step - loss: 0.0014 - mae: 0.0254 - mape: 109372.6172 - mse: 0.0014 - val_loss: 0.0227 - val_mae: 0.0947 - val_mape: 16.5193 - val_mse: 0.0227\n",
      "Epoch 2/100\n",
      "21/21 [==============================] - 1s 62ms/step - loss: 0.0015 - mae: 0.0256 - mape: 157315.6250 - mse: 0.0015 - val_loss: 0.0204 - val_mae: 0.0899 - val_mape: 16.3426 - val_mse: 0.0204\n",
      "Epoch 3/100\n",
      "21/21 [==============================] - 1s 47ms/step - loss: 0.0014 - mae: 0.0244 - mape: 147271.9062 - mse: 0.0014 - val_loss: 0.0203 - val_mae: 0.0897 - val_mape: 15.9746 - val_mse: 0.0203\n",
      "Epoch 4/100\n",
      "21/21 [==============================] - 1s 50ms/step - loss: 0.0016 - mae: 0.0250 - mape: 71012.6250 - mse: 0.0016 - val_loss: 0.0230 - val_mae: 0.0942 - val_mape: 16.4263 - val_mse: 0.0230\n",
      "Epoch 5/100\n",
      "21/21 [==============================] - 1s 49ms/step - loss: 0.0017 - mae: 0.0269 - mape: 131553.7812 - mse: 0.0017 - val_loss: 0.0197 - val_mae: 0.0880 - val_mape: 15.8269 - val_mse: 0.0197\n",
      "Epoch 6/100\n",
      "21/21 [==============================] - 1s 49ms/step - loss: 0.0015 - mae: 0.0249 - mape: 41634.3906 - mse: 0.0015 - val_loss: 0.0240 - val_mae: 0.0973 - val_mape: 16.8401 - val_mse: 0.0240\n",
      "Epoch 7/100\n",
      "21/21 [==============================] - 1s 46ms/step - loss: 0.0016 - mae: 0.0255 - mape: 103883.1172 - mse: 0.0016 - val_loss: 0.0296 - val_mae: 0.1077 - val_mape: 17.5886 - val_mse: 0.0296\n",
      "Epoch 8/100\n",
      "21/21 [==============================] - 1s 58ms/step - loss: 0.0018 - mae: 0.0270 - mape: 98615.2031 - mse: 0.0018 - val_loss: 0.0285 - val_mae: 0.1064 - val_mape: 17.7657 - val_mse: 0.0285\n",
      "Epoch 9/100\n",
      "21/21 [==============================] - 2s 95ms/step - loss: 0.0015 - mae: 0.0254 - mape: 106615.4453 - mse: 0.0015 - val_loss: 0.0240 - val_mae: 0.0968 - val_mape: 16.5986 - val_mse: 0.0240\n",
      "Epoch 10/100\n",
      "21/21 [==============================] - 2s 90ms/step - loss: 0.0016 - mae: 0.0251 - mape: 127520.6016 - mse: 0.0016 - val_loss: 0.0238 - val_mae: 0.0965 - val_mape: 16.5366 - val_mse: 0.0238\n",
      "Epoch 11/100\n",
      "21/21 [==============================] - 2s 90ms/step - loss: 0.0015 - mae: 0.0256 - mape: 133401.7188 - mse: 0.0015 - val_loss: 0.0257 - val_mae: 0.1014 - val_mape: 17.1844 - val_mse: 0.0257\n",
      "Epoch 12/100\n",
      "21/21 [==============================] - 2s 85ms/step - loss: 0.0015 - mae: 0.0259 - mape: 84453.9219 - mse: 0.0015 - val_loss: 0.0268 - val_mae: 0.1040 - val_mape: 17.6172 - val_mse: 0.0268\n",
      "Epoch 13/100\n",
      "21/21 [==============================] - 2s 88ms/step - loss: 0.0016 - mae: 0.0261 - mape: 161143.5625 - mse: 0.0016 - val_loss: 0.0290 - val_mae: 0.1064 - val_mape: 17.4344 - val_mse: 0.0290\n",
      "Epoch 14/100\n",
      "21/21 [==============================] - 2s 89ms/step - loss: 0.0017 - mae: 0.0252 - mape: 80891.2891 - mse: 0.0017 - val_loss: 0.0228 - val_mae: 0.0949 - val_mape: 16.5180 - val_mse: 0.0228\n",
      "Epoch 15/100\n",
      "21/21 [==============================] - 2s 92ms/step - loss: 0.0015 - mae: 0.0256 - mape: 67347.6406 - mse: 0.0015 - val_loss: 0.0238 - val_mae: 0.0972 - val_mape: 16.9131 - val_mse: 0.0238\n",
      "Epoch 16/100\n",
      "21/21 [==============================] - 2s 90ms/step - loss: 0.0017 - mae: 0.0265 - mape: 110087.4688 - mse: 0.0017 - val_loss: 0.0301 - val_mae: 0.1085 - val_mape: 17.6201 - val_mse: 0.0301\n",
      "Epoch 17/100\n",
      "21/21 [==============================] - 2s 88ms/step - loss: 0.0016 - mae: 0.0263 - mape: 177914.1875 - mse: 0.0016 - val_loss: 0.0313 - val_mae: 0.1120 - val_mape: 18.3091 - val_mse: 0.0313\n",
      "Epoch 18/100\n",
      "21/21 [==============================] - 2s 88ms/step - loss: 0.0015 - mae: 0.0251 - mape: 90138.2031 - mse: 0.0015 - val_loss: 0.0280 - val_mae: 0.1052 - val_mape: 17.3329 - val_mse: 0.0280\n",
      "Epoch 19/100\n",
      "21/21 [==============================] - 2s 89ms/step - loss: 0.0014 - mae: 0.0247 - mape: 185373.7031 - mse: 0.0014 - val_loss: 0.0259 - val_mae: 0.1019 - val_mape: 18.0478 - val_mse: 0.0259\n",
      "Epoch 20/100\n",
      "21/21 [==============================] - 2s 89ms/step - loss: 0.0016 - mae: 0.0258 - mape: 83206.3906 - mse: 0.0016 - val_loss: 0.0319 - val_mae: 0.1111 - val_mape: 17.9418 - val_mse: 0.0319\n",
      "Epoch 21/100\n",
      "21/21 [==============================] - 2s 90ms/step - loss: 0.0014 - mae: 0.0252 - mape: 97879.4609 - mse: 0.0014 - val_loss: 0.0347 - val_mae: 0.1149 - val_mape: 18.2004 - val_mse: 0.0347\n",
      "Epoch 22/100\n",
      "21/21 [==============================] - 2s 90ms/step - loss: 0.0016 - mae: 0.0258 - mape: 88142.8203 - mse: 0.0016 - val_loss: 0.0380 - val_mae: 0.1210 - val_mape: 18.8798 - val_mse: 0.0380\n",
      "Epoch 23/100\n",
      "21/21 [==============================] - 2s 90ms/step - loss: 0.0016 - mae: 0.0253 - mape: 137927.2344 - mse: 0.0016 - val_loss: 0.0367 - val_mae: 0.1178 - val_mape: 18.5677 - val_mse: 0.0367\n",
      "Epoch 24/100\n",
      "21/21 [==============================] - 2s 91ms/step - loss: 0.0015 - mae: 0.0258 - mape: 139773.5938 - mse: 0.0015 - val_loss: 0.0313 - val_mae: 0.1102 - val_mape: 18.2321 - val_mse: 0.0313\n",
      "Epoch 25/100\n",
      "21/21 [==============================] - 2s 91ms/step - loss: 0.0014 - mae: 0.0251 - mape: 64504.9336 - mse: 0.0014 - val_loss: 0.0317 - val_mae: 0.1105 - val_mape: 17.8545 - val_mse: 0.0317\n",
      "Epoch 26/100\n",
      "21/21 [==============================] - 2s 87ms/step - loss: 0.0018 - mae: 0.0265 - mape: 114492.6875 - mse: 0.0018 - val_loss: 0.0339 - val_mae: 0.1138 - val_mape: 18.0869 - val_mse: 0.0339\n",
      "Epoch 27/100\n",
      "21/21 [==============================] - 2s 92ms/step - loss: 0.0015 - mae: 0.0257 - mape: 152609.4375 - mse: 0.0015 - val_loss: 0.0322 - val_mae: 0.1114 - val_mape: 17.8599 - val_mse: 0.0322\n",
      "Epoch 28/100\n",
      "21/21 [==============================] - 2s 89ms/step - loss: 0.0016 - mae: 0.0253 - mape: 123097.7734 - mse: 0.0016 - val_loss: 0.0306 - val_mae: 0.1090 - val_mape: 17.6645 - val_mse: 0.0306\n",
      "Epoch 29/100\n",
      "21/21 [==============================] - 2s 90ms/step - loss: 0.0017 - mae: 0.0265 - mape: 127667.3203 - mse: 0.0017 - val_loss: 0.0349 - val_mae: 0.1175 - val_mape: 18.6811 - val_mse: 0.0349\n",
      "Epoch 30/100\n",
      "21/21 [==============================] - 2s 91ms/step - loss: 0.0016 - mae: 0.0274 - mape: 137741.7656 - mse: 0.0016 - val_loss: 0.0385 - val_mae: 0.1230 - val_mape: 19.5075 - val_mse: 0.0385\n",
      "Epoch 31/100\n",
      "21/21 [==============================] - 2s 90ms/step - loss: 0.0015 - mae: 0.0252 - mape: 96872.9531 - mse: 0.0015 - val_loss: 0.0341 - val_mae: 0.1147 - val_mape: 18.4249 - val_mse: 0.0341\n",
      "Epoch 32/100\n",
      "21/21 [==============================] - 2s 90ms/step - loss: 0.0017 - mae: 0.0272 - mape: 117795.5703 - mse: 0.0017 - val_loss: 0.0332 - val_mae: 0.1134 - val_mape: 18.1334 - val_mse: 0.0332\n",
      "Epoch 33/100\n",
      "21/21 [==============================] - 2s 90ms/step - loss: 0.0013 - mae: 0.0239 - mape: 109656.3594 - mse: 0.0013 - val_loss: 0.0358 - val_mae: 0.1168 - val_mape: 18.4627 - val_mse: 0.0358\n",
      "Epoch 34/100\n",
      "21/21 [==============================] - 2s 88ms/step - loss: 0.0015 - mae: 0.0257 - mape: 109398.9453 - mse: 0.0015 - val_loss: 0.0343 - val_mae: 0.1159 - val_mape: 18.4506 - val_mse: 0.0343\n",
      "Epoch 35/100\n",
      "21/21 [==============================] - 2s 91ms/step - loss: 0.0013 - mae: 0.0242 - mape: 85442.4922 - mse: 0.0013 - val_loss: 0.0382 - val_mae: 0.1206 - val_mape: 18.8098 - val_mse: 0.0382\n",
      "Epoch 36/100\n",
      "21/21 [==============================] - 2s 89ms/step - loss: 0.0017 - mae: 0.0258 - mape: 102839.3594 - mse: 0.0017 - val_loss: 0.0361 - val_mae: 0.1184 - val_mape: 18.9301 - val_mse: 0.0361\n",
      "Epoch 37/100\n",
      "21/21 [==============================] - 2s 89ms/step - loss: 0.0014 - mae: 0.0244 - mape: 101399.1172 - mse: 0.0014 - val_loss: 0.0383 - val_mae: 0.1227 - val_mape: 19.2189 - val_mse: 0.0383\n",
      "Epoch 38/100\n",
      "21/21 [==============================] - 2s 96ms/step - loss: 0.0015 - mae: 0.0256 - mape: 107640.3438 - mse: 0.0015 - val_loss: 0.0334 - val_mae: 0.1141 - val_mape: 18.1563 - val_mse: 0.0334\n",
      "Epoch 39/100\n",
      "21/21 [==============================] - 2s 93ms/step - loss: 0.0016 - mae: 0.0268 - mape: 156020.0938 - mse: 0.0016 - val_loss: 0.0317 - val_mae: 0.1108 - val_mape: 18.1519 - val_mse: 0.0317\n",
      "Epoch 40/100\n",
      "21/21 [==============================] - 2s 93ms/step - loss: 0.0015 - mae: 0.0252 - mape: 102658.0859 - mse: 0.0015 - val_loss: 0.0403 - val_mae: 0.1224 - val_mape: 19.1857 - val_mse: 0.0403\n",
      "Epoch 41/100\n",
      "21/21 [==============================] - 2s 89ms/step - loss: 0.0014 - mae: 0.0248 - mape: 107898.1328 - mse: 0.0014 - val_loss: 0.0364 - val_mae: 0.1187 - val_mape: 19.7675 - val_mse: 0.0364\n",
      "Epoch 42/100\n",
      "21/21 [==============================] - 2s 90ms/step - loss: 0.0016 - mae: 0.0268 - mape: 114288.4219 - mse: 0.0016 - val_loss: 0.0336 - val_mae: 0.1140 - val_mape: 18.7679 - val_mse: 0.0336\n",
      "Epoch 43/100\n",
      "21/21 [==============================] - 2s 91ms/step - loss: 0.0016 - mae: 0.0258 - mape: 99048.2422 - mse: 0.0016 - val_loss: 0.0342 - val_mae: 0.1143 - val_mape: 18.1140 - val_mse: 0.0342\n",
      "Epoch 44/100\n",
      "21/21 [==============================] - 2s 92ms/step - loss: 0.0015 - mae: 0.0255 - mape: 199934.0000 - mse: 0.0015 - val_loss: 0.0352 - val_mae: 0.1162 - val_mape: 18.9702 - val_mse: 0.0352\n",
      "Epoch 45/100\n",
      "21/21 [==============================] - 2s 91ms/step - loss: 0.0015 - mae: 0.0251 - mape: 139513.6562 - mse: 0.0015 - val_loss: 0.0497 - val_mae: 0.1361 - val_mape: 20.3513 - val_mse: 0.0497\n",
      "Epoch 46/100\n",
      "21/21 [==============================] - 2s 89ms/step - loss: 0.0017 - mae: 0.0258 - mape: 71588.2734 - mse: 0.0017 - val_loss: 0.0570 - val_mae: 0.1460 - val_mape: 21.3353 - val_mse: 0.0570\n",
      "Epoch 47/100\n",
      "21/21 [==============================] - 2s 86ms/step - loss: 0.0014 - mae: 0.0249 - mape: 164979.3594 - mse: 0.0014 - val_loss: 0.0431 - val_mae: 0.1281 - val_mape: 19.4420 - val_mse: 0.0431\n",
      "Epoch 48/100\n",
      "21/21 [==============================] - 2s 88ms/step - loss: 0.0014 - mae: 0.0243 - mape: 93255.9219 - mse: 0.0014 - val_loss: 0.0334 - val_mae: 0.1134 - val_mape: 18.1937 - val_mse: 0.0334\n",
      "Epoch 49/100\n",
      "21/21 [==============================] - 2s 91ms/step - loss: 0.0014 - mae: 0.0248 - mape: 32673.1328 - mse: 0.0014 - val_loss: 0.0361 - val_mae: 0.1197 - val_mape: 18.9989 - val_mse: 0.0361\n",
      "Epoch 50/100\n",
      "21/21 [==============================] - 2s 89ms/step - loss: 0.0015 - mae: 0.0252 - mape: 96725.4375 - mse: 0.0015 - val_loss: 0.0393 - val_mae: 0.1218 - val_mape: 18.8034 - val_mse: 0.0393\n",
      "Epoch 51/100\n",
      "21/21 [==============================] - 2s 90ms/step - loss: 0.0018 - mae: 0.0269 - mape: 76795.8516 - mse: 0.0018 - val_loss: 0.0355 - val_mae: 0.1174 - val_mape: 19.5763 - val_mse: 0.0355\n",
      "Epoch 52/100\n",
      "21/21 [==============================] - 2s 89ms/step - loss: 0.0016 - mae: 0.0262 - mape: 132766.2344 - mse: 0.0016 - val_loss: 0.0327 - val_mae: 0.1145 - val_mape: 18.5905 - val_mse: 0.0327\n",
      "Epoch 53/100\n",
      "21/21 [==============================] - 2s 89ms/step - loss: 0.0018 - mae: 0.0278 - mape: 157054.6406 - mse: 0.0018 - val_loss: 0.0268 - val_mae: 0.1035 - val_mape: 17.6589 - val_mse: 0.0268\n",
      "Epoch 54/100\n",
      "21/21 [==============================] - 2s 88ms/step - loss: 0.0013 - mae: 0.0256 - mape: 84883.7344 - mse: 0.0013 - val_loss: 0.0326 - val_mae: 0.1121 - val_mape: 18.0620 - val_mse: 0.0326\n",
      "Epoch 55/100\n",
      "21/21 [==============================] - 2s 83ms/step - loss: 0.0015 - mae: 0.0245 - mape: 117257.4141 - mse: 0.0015 - val_loss: 0.0328 - val_mae: 0.1115 - val_mape: 18.1331 - val_mse: 0.0328\n",
      "Epoch 56/100\n",
      "21/21 [==============================] - 2s 90ms/step - loss: 0.0019 - mae: 0.0277 - mape: 137778.5469 - mse: 0.0019 - val_loss: 0.0327 - val_mae: 0.1133 - val_mape: 18.1105 - val_mse: 0.0327\n",
      "Epoch 57/100\n",
      "21/21 [==============================] - 2s 90ms/step - loss: 0.0018 - mae: 0.0273 - mape: 245920.7812 - mse: 0.0018 - val_loss: 0.0369 - val_mae: 0.1198 - val_mape: 18.7905 - val_mse: 0.0369\n",
      "Epoch 58/100\n",
      "21/21 [==============================] - 2s 92ms/step - loss: 0.0013 - mae: 0.0244 - mape: 41595.4961 - mse: 0.0013 - val_loss: 0.0406 - val_mae: 0.1234 - val_mape: 18.9282 - val_mse: 0.0406\n",
      "Epoch 59/100\n",
      "21/21 [==============================] - 2s 90ms/step - loss: 0.0013 - mae: 0.0242 - mape: 108196.1328 - mse: 0.0013 - val_loss: 0.0347 - val_mae: 0.1150 - val_mape: 18.6887 - val_mse: 0.0347\n",
      "Epoch 60/100\n",
      "21/21 [==============================] - 2s 89ms/step - loss: 0.0015 - mae: 0.0255 - mape: 88132.8750 - mse: 0.0015 - val_loss: 0.0349 - val_mae: 0.1152 - val_mape: 18.2982 - val_mse: 0.0349\n",
      "Epoch 61/100\n",
      "21/21 [==============================] - 2s 84ms/step - loss: 0.0015 - mae: 0.0255 - mape: 71444.0391 - mse: 0.0015 - val_loss: 0.0355 - val_mae: 0.1170 - val_mape: 18.4355 - val_mse: 0.0355\n",
      "Epoch 62/100\n",
      "21/21 [==============================] - 2s 89ms/step - loss: 0.0013 - mae: 0.0235 - mape: 40800.1484 - mse: 0.0013 - val_loss: 0.0412 - val_mae: 0.1248 - val_mape: 19.0398 - val_mse: 0.0412\n",
      "Epoch 63/100\n",
      "21/21 [==============================] - 2s 87ms/step - loss: 0.0014 - mae: 0.0250 - mape: 97211.4062 - mse: 0.0014 - val_loss: 0.0452 - val_mae: 0.1295 - val_mape: 19.8505 - val_mse: 0.0452\n",
      "Epoch 64/100\n",
      "21/21 [==============================] - 2s 90ms/step - loss: 0.0014 - mae: 0.0246 - mape: 120805.9297 - mse: 0.0014 - val_loss: 0.0339 - val_mae: 0.1139 - val_mape: 18.5407 - val_mse: 0.0339\n",
      "Epoch 65/100\n",
      "21/21 [==============================] - 2s 90ms/step - loss: 0.0016 - mae: 0.0251 - mape: 152635.0625 - mse: 0.0016 - val_loss: 0.0404 - val_mae: 0.1230 - val_mape: 19.0511 - val_mse: 0.0404\n",
      "Epoch 66/100\n",
      "21/21 [==============================] - 2s 89ms/step - loss: 0.0017 - mae: 0.0273 - mape: 65006.1602 - mse: 0.0017 - val_loss: 0.0432 - val_mae: 0.1261 - val_mape: 19.4276 - val_mse: 0.0432\n",
      "Epoch 67/100\n",
      "21/21 [==============================] - 2s 90ms/step - loss: 0.0012 - mae: 0.0235 - mape: 107690.0703 - mse: 0.0012 - val_loss: 0.0400 - val_mae: 0.1232 - val_mape: 18.9760 - val_mse: 0.0400\n",
      "Epoch 68/100\n",
      "21/21 [==============================] - 2s 91ms/step - loss: 0.0014 - mae: 0.0247 - mape: 116190.6484 - mse: 0.0014 - val_loss: 0.0359 - val_mae: 0.1172 - val_mape: 18.8789 - val_mse: 0.0359\n",
      "Epoch 69/100\n",
      "21/21 [==============================] - 2s 90ms/step - loss: 0.0015 - mae: 0.0259 - mape: 64029.0703 - mse: 0.0015 - val_loss: 0.0341 - val_mae: 0.1140 - val_mape: 18.1239 - val_mse: 0.0341\n",
      "Epoch 70/100\n",
      "21/21 [==============================] - 2s 91ms/step - loss: 0.0013 - mae: 0.0244 - mape: 173683.4688 - mse: 0.0013 - val_loss: 0.0410 - val_mae: 0.1237 - val_mape: 19.0604 - val_mse: 0.0410\n",
      "Epoch 71/100\n",
      "21/21 [==============================] - 2s 90ms/step - loss: 0.0016 - mae: 0.0254 - mape: 153157.5938 - mse: 0.0016 - val_loss: 0.0323 - val_mae: 0.1121 - val_mape: 18.0871 - val_mse: 0.0323\n",
      "Epoch 72/100\n",
      "21/21 [==============================] - 2s 90ms/step - loss: 0.0014 - mae: 0.0252 - mape: 73664.6172 - mse: 0.0014 - val_loss: 0.0284 - val_mae: 0.1083 - val_mape: 18.7747 - val_mse: 0.0284\n",
      "Epoch 73/100\n",
      "21/21 [==============================] - 2s 89ms/step - loss: 0.0014 - mae: 0.0250 - mape: 43466.7305 - mse: 0.0014 - val_loss: 0.0277 - val_mae: 0.1034 - val_mape: 17.2220 - val_mse: 0.0277\n",
      "Epoch 74/100\n",
      "21/21 [==============================] - 2s 93ms/step - loss: 0.0015 - mae: 0.0256 - mape: 95361.9297 - mse: 0.0015 - val_loss: 0.0271 - val_mae: 0.1028 - val_mape: 17.3152 - val_mse: 0.0271\n",
      "Epoch 75/100\n",
      "21/21 [==============================] - 2s 90ms/step - loss: 0.0016 - mae: 0.0272 - mape: 188244.7812 - mse: 0.0016 - val_loss: 0.0287 - val_mae: 0.1056 - val_mape: 17.3820 - val_mse: 0.0287\n",
      "Epoch 76/100\n",
      "21/21 [==============================] - 2s 91ms/step - loss: 0.0016 - mae: 0.0255 - mape: 104037.8359 - mse: 0.0016 - val_loss: 0.0434 - val_mae: 0.1261 - val_mape: 19.1032 - val_mse: 0.0434\n",
      "Epoch 77/100\n",
      "21/21 [==============================] - 2s 87ms/step - loss: 0.0014 - mae: 0.0246 - mape: 123522.0781 - mse: 0.0014 - val_loss: 0.0346 - val_mae: 0.1170 - val_mape: 18.5868 - val_mse: 0.0346\n",
      "Epoch 78/100\n",
      "21/21 [==============================] - 2s 86ms/step - loss: 0.0015 - mae: 0.0245 - mape: 111299.1484 - mse: 0.0015 - val_loss: 0.0537 - val_mae: 0.1393 - val_mape: 20.2701 - val_mse: 0.0537\n",
      "Epoch 79/100\n",
      "21/21 [==============================] - 2s 92ms/step - loss: 0.0017 - mae: 0.0265 - mape: 124848.8828 - mse: 0.0017 - val_loss: 0.0453 - val_mae: 0.1322 - val_mape: 19.9277 - val_mse: 0.0453\n",
      "Epoch 80/100\n",
      "21/21 [==============================] - 2s 91ms/step - loss: 0.0016 - mae: 0.0257 - mape: 80430.5312 - mse: 0.0016 - val_loss: 0.0420 - val_mae: 0.1261 - val_mape: 19.2220 - val_mse: 0.0420\n",
      "Epoch 81/100\n",
      "21/21 [==============================] - 2s 90ms/step - loss: 0.0017 - mae: 0.0265 - mape: 90447.4375 - mse: 0.0017 - val_loss: 0.0408 - val_mae: 0.1252 - val_mape: 19.2713 - val_mse: 0.0408\n",
      "Epoch 82/100\n",
      "21/21 [==============================] - 2s 91ms/step - loss: 0.0014 - mae: 0.0246 - mape: 130932.7422 - mse: 0.0014 - val_loss: 0.0307 - val_mae: 0.1088 - val_mape: 17.5548 - val_mse: 0.0307\n",
      "Epoch 83/100\n",
      "21/21 [==============================] - 2s 89ms/step - loss: 0.0016 - mae: 0.0259 - mape: 92489.8828 - mse: 0.0016 - val_loss: 0.0302 - val_mae: 0.1075 - val_mape: 17.5394 - val_mse: 0.0302\n",
      "Epoch 84/100\n",
      "21/21 [==============================] - 2s 90ms/step - loss: 0.0013 - mae: 0.0242 - mape: 91340.0312 - mse: 0.0013 - val_loss: 0.0331 - val_mae: 0.1128 - val_mape: 18.7397 - val_mse: 0.0331\n",
      "Epoch 85/100\n",
      "21/21 [==============================] - 2s 88ms/step - loss: 0.0016 - mae: 0.0264 - mape: 91555.7891 - mse: 0.0016 - val_loss: 0.0315 - val_mae: 0.1110 - val_mape: 19.2836 - val_mse: 0.0315\n",
      "Epoch 86/100\n",
      "21/21 [==============================] - 2s 88ms/step - loss: 0.0015 - mae: 0.0258 - mape: 74648.2812 - mse: 0.0015 - val_loss: 0.0384 - val_mae: 0.1193 - val_mape: 18.6201 - val_mse: 0.0384\n",
      "Epoch 87/100\n",
      "21/21 [==============================] - 2s 90ms/step - loss: 0.0017 - mae: 0.0258 - mape: 108564.3203 - mse: 0.0017 - val_loss: 0.0376 - val_mae: 0.1184 - val_mape: 18.5268 - val_mse: 0.0376\n",
      "Epoch 88/100\n",
      "21/21 [==============================] - 2s 88ms/step - loss: 0.0015 - mae: 0.0253 - mape: 49854.0508 - mse: 0.0015 - val_loss: 0.0381 - val_mae: 0.1201 - val_mape: 18.5635 - val_mse: 0.0381\n",
      "Epoch 89/100\n",
      "21/21 [==============================] - 2s 86ms/step - loss: 0.0014 - mae: 0.0239 - mape: 59658.0977 - mse: 0.0014 - val_loss: 0.0404 - val_mae: 0.1219 - val_mape: 19.0231 - val_mse: 0.0404\n",
      "Epoch 90/100\n",
      "21/21 [==============================] - 2s 90ms/step - loss: 0.0014 - mae: 0.0241 - mape: 117402.8828 - mse: 0.0014 - val_loss: 0.0425 - val_mae: 0.1279 - val_mape: 19.5064 - val_mse: 0.0425\n",
      "Epoch 91/100\n",
      "21/21 [==============================] - 2s 88ms/step - loss: 0.0013 - mae: 0.0236 - mape: 142731.3281 - mse: 0.0013 - val_loss: 0.0527 - val_mae: 0.1406 - val_mape: 20.6458 - val_mse: 0.0527\n",
      "Epoch 92/100\n",
      "21/21 [==============================] - 2s 90ms/step - loss: 0.0014 - mae: 0.0244 - mape: 111258.7188 - mse: 0.0014 - val_loss: 0.0624 - val_mae: 0.1496 - val_mape: 21.1140 - val_mse: 0.0624\n",
      "Epoch 93/100\n",
      "21/21 [==============================] - 2s 85ms/step - loss: 0.0016 - mae: 0.0254 - mape: 113439.0391 - mse: 0.0016 - val_loss: 0.0502 - val_mae: 0.1364 - val_mape: 21.0465 - val_mse: 0.0502\n",
      "Epoch 94/100\n",
      "21/21 [==============================] - 2s 88ms/step - loss: 0.0016 - mae: 0.0264 - mape: 69659.7031 - mse: 0.0016 - val_loss: 0.0471 - val_mae: 0.1310 - val_mape: 19.7195 - val_mse: 0.0471\n",
      "Epoch 95/100\n",
      "21/21 [==============================] - 2s 92ms/step - loss: 0.0015 - mae: 0.0247 - mape: 114580.9844 - mse: 0.0015 - val_loss: 0.0428 - val_mae: 0.1272 - val_mape: 19.3718 - val_mse: 0.0428\n",
      "Epoch 96/100\n",
      "21/21 [==============================] - 2s 88ms/step - loss: 0.0012 - mae: 0.0232 - mape: 117104.0469 - mse: 0.0012 - val_loss: 0.0384 - val_mae: 0.1206 - val_mape: 18.6327 - val_mse: 0.0384\n",
      "Epoch 97/100\n",
      "21/21 [==============================] - 2s 89ms/step - loss: 0.0015 - mae: 0.0254 - mape: 132752.3438 - mse: 0.0015 - val_loss: 0.0318 - val_mae: 0.1107 - val_mape: 17.8537 - val_mse: 0.0318\n",
      "Epoch 98/100\n",
      "21/21 [==============================] - 1s 67ms/step - loss: 0.0015 - mae: 0.0257 - mape: 141894.0000 - mse: 0.0015 - val_loss: 0.0394 - val_mae: 0.1225 - val_mape: 18.7916 - val_mse: 0.0394\n",
      "Epoch 99/100\n",
      "21/21 [==============================] - 1s 45ms/step - loss: 0.0016 - mae: 0.0257 - mape: 93836.2500 - mse: 0.0016 - val_loss: 0.0374 - val_mae: 0.1211 - val_mape: 19.1994 - val_mse: 0.0374\n",
      "Epoch 100/100\n",
      "21/21 [==============================] - 1s 44ms/step - loss: 0.0017 - mae: 0.0264 - mape: 109218.5078 - mse: 0.0017 - val_loss: 0.0343 - val_mae: 0.1157 - val_mape: 20.2323 - val_mse: 0.0343\n"
     ]
    },
    {
     "data": {
      "text/plain": [
       "<keras.callbacks.History at 0x2515b1a75b0>"
      ]
     },
     "execution_count": 34,
     "metadata": {},
     "output_type": "execute_result"
    }
   ],
   "source": [
    "model.fit(X_train, y_train, validation_data=(X_test, y_test), epochs=100, callbacks=[tb])"
   ]
  },
  {
   "cell_type": "code",
   "execution_count": 35,
   "metadata": {},
   "outputs": [
    {
     "name": "stdout",
     "output_type": "stream",
     "text": [
      "4/4 [==============================] - 0s 14ms/step\n",
      "MAPE is less than 1 percent for the testing dataset.\n"
     ]
    }
   ],
   "source": [
    "# To check the MAPE error\n",
    "\n",
    "# Obtain predictions on the testing dataset\n",
    "predictions = model.predict(X_test)\n",
    "\n",
    "# Calculate APE for each data point\n",
    "ape = np.abs((y_test - predictions) / y_test) * 100\n",
    "\n",
    "# Calculate MAPE for the testing dataset\n",
    "mape = np.mean(ape)\n",
    "\n",
    "# Calculate MAE for the testing dataset\n",
    "mae = np.mean(np.abs(y_test - predictions))\n",
    "\n",
    "# Calculate MABE for the testing dataset\n",
    "mabe = np.mean(np.abs(y_test - np.mean(y_test)))\n",
    "\n",
    "# Calculate MAPE Error Ratio\n",
    "mape_error_ratio = ((mae - mabe) / mabe) * 100\n",
    "\n",
    "# Check if MAPE Error Ratio is less than 1%\n",
    "if mape_error_ratio < 1:\n",
    "    print(\"MAPE is less than 1 percent for the testing dataset.\")\n",
    "else:\n",
    "    print(\"MAPE is not less than 1 percent for the testing dataset.\")"
   ]
  },
  {
   "attachments": {},
   "cell_type": "markdown",
   "metadata": {},
   "source": [
    "## 10. Model Evaluation"
   ]
  },
  {
   "cell_type": "code",
   "execution_count": 44,
   "metadata": {},
   "outputs": [
    {
     "name": "stdout",
     "output_type": "stream",
     "text": [
      "dict_keys(['loss', 'mae', 'mape', 'mse', 'val_loss', 'val_mae', 'val_mape', 'val_mse'])\n"
     ]
    }
   ],
   "source": [
    "print(history.history.keys())"
   ]
  },
  {
   "cell_type": "code",
   "execution_count": 37,
   "metadata": {},
   "outputs": [
    {
     "data": {
      "image/png": "[encoded data removed]",
      "text/plain": [
       "<Figure size 640x480 with 1 Axes>"
      ]
     },
     "metadata": {},
     "output_type": "display_data"
    }
   ],
   "source": [
    "#Plot the evaluation graph\n",
    "plt.figure()\n",
    "plt.plot(history.history['mae'])\n",
    "plt.plot(history.history['val_mae'])\n",
    "plt.legend(['Train MAE','Test MAE'])\n",
    "plt.show()"
   ]
  },
  {
   "attachments": {},
   "cell_type": "markdown",
   "metadata": {},
   "source": [
    "## 11. Model Deployment"
   ]
  },
  {
   "cell_type": "code",
   "execution_count": 38,
   "metadata": {},
   "outputs": [
    {
     "name": "stdout",
     "output_type": "stream",
     "text": [
      "4/4 [==============================] - 0s 13ms/step\n"
     ]
    }
   ],
   "source": [
    "y_pred = model.predict(X_test)"
   ]
  },
  {
   "cell_type": "code",
   "execution_count": 41,
   "metadata": {},
   "outputs": [],
   "source": [
    "#perform inverse transform\n",
    "actual_cases = mms.inverse_transform(y_test)\n",
    "predicted_cases = mms.inverse_transform(y_pred)"
   ]
  },
  {
   "cell_type": "code",
   "execution_count": 46,
   "metadata": {},
   "outputs": [
    {
     "data": {
      "text/plain": [
       "<matplotlib.legend.Legend at 0x25159124be0>"
      ]
     },
     "execution_count": 46,
     "metadata": {},
     "output_type": "execute_result"
    },
    {
     "data": {
      "image/png": "[encoded data removed]",
      "text/plain": [
       "<Figure size 640x480 with 1 Axes>"
      ]
     },
     "metadata": {},
     "output_type": "display_data"
    }
   ],
   "source": [
    "#Plot actual vs predicted\n",
    "plt.figure()\n",
    "plt.plot(actual_cases,color='red')\n",
    "plt.plot(predicted_cases,color='blue')\n",
    "plt.xlabel(\"Days\")\n",
    "plt.ylabel(\"New Cases in Malaysia\")\n",
    "plt.legend(['Actual','Predicted'])"
   ]
  }
 ],
 "metadata": {
  "kernelspec": {
   "display_name": "cpu_ai03",
   "language": "python",
   "name": "cpu_ai03"
  },
  "language_info": {
   "codemirror_mode": {
    "name": "ipython",
    "version": 3
   },
   "file_extension": ".py",
   "mimetype": "text/x-python",
   "name": "python",
   "nbconvert_exporter": "python",
   "pygments_lexer": "ipython3",
   "version": "3.9.16"
  },
  "orig_nbformat": 4
 },
 "nbformat": 4,
 "nbformat_minor": 2
}
